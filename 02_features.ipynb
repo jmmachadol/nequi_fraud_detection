{
 "cells": [
  {
   "cell_type": "markdown",
   "id": "fabf782d",
   "metadata": {},
   "source": [
    "# 02 · Ingeniería de variables\n",
    "\n",
    "Se generan y validan las variables que alimentarán los\n",
    "modelos de detección de fraude. Las funciones se encapsulan en\n",
    "`src/features.py` para facilitar mantenimiento y pruebas unitarias.\n"
   ]
  },
  {
   "cell_type": "code",
   "execution_count": null,
   "id": "be21557c",
   "metadata": {},
   "outputs": [
    {
     "name": "stderr",
     "output_type": "stream",
     "text": [
      "2025-06-29 02:08:38 | INFO | df_clean cargado: 10,758,402 filas\n"
     ]
    }
   ],
   "source": [
    "# C.0 · Setup y carga de datos\n",
    "import time\n",
    "from pathlib import Path\n",
    "import pandas as pd\n",
    "from src.utils    import log_step\n",
    "from src.features import build_features\n",
    "import numpy as np\n",
    "\n",
    "CACHE_DIR = Path(\"./cache\")\n",
    "df = pd.read_parquet(CACHE_DIR / \"df_clean.parquet\")\n",
    "log_step(f\"df_clean cargado: {len(df):,} filas\")"
   ]
  },
  {
   "cell_type": "code",
   "execution_count": null,
   "id": "32e12229",
   "metadata": {},
   "outputs": [
    {
     "name": "stderr",
     "output_type": "stream",
     "text": [
      "c:\\Users\\Jose Manuel\\Desktop\\NEQUI\\src\\features.py:17: FutureWarning: The default of observed=False is deprecated and will be changed to True in a future version of pandas. Pass observed=False to retain current behavior or observed=True to adopt the future default and silence this warning.\n",
      "  grp = df.set_index(\"transaction_date\").groupby(\"user_id\", sort=False)\n",
      "c:\\Users\\Jose Manuel\\Desktop\\NEQUI\\src\\features.py:59: FutureWarning: The default of observed=False is deprecated and will be changed to True in a future version of pandas. Pass observed=False to retain current behavior or observed=True to adopt the future default and silence this warning.\n",
      "  .groupby(\"user_id\", sort=False)[amount_col]\n",
      "c:\\Users\\Jose Manuel\\Desktop\\NEQUI\\src\\features.py:84: FutureWarning: The default of observed=False is deprecated and will be changed to True in a future version of pandas. Pass observed=False to retain current behavior or observed=True to adopt the future default and silence this warning.\n",
      "  pct = df.groupby(type_col)[amount_col].quantile([0.95, 0.99]).unstack(level=1)\n",
      "2025-06-29 02:05:01 | INFO | Features generadas en 829.9s | columnas totales: 29\n"
     ]
    }
   ],
   "source": [
    "# C.1 · Generación de features\n",
    "t0 = time.time()\n",
    "df_feat = build_features(df)\n",
    "log_step(f\"Features generadas en {time.time()-t0:.1f}s | \"\n",
    "         f\"columnas totales: {df_feat.shape[1]}\")"
   ]
  },
  {
   "cell_type": "code",
   "execution_count": null,
   "id": "5f09074c",
   "metadata": {},
   "outputs": [
    {
     "data": {
      "text/html": [
       "<div>\n",
       "<style scoped>\n",
       "    .dataframe tbody tr th:only-of-type {\n",
       "        vertical-align: middle;\n",
       "    }\n",
       "\n",
       "    .dataframe tbody tr th {\n",
       "        vertical-align: top;\n",
       "    }\n",
       "\n",
       "    .dataframe thead th {\n",
       "        text-align: right;\n",
       "    }\n",
       "</style>\n",
       "<table border=\"1\" class=\"dataframe\">\n",
       "  <thead>\n",
       "    <tr style=\"text-align: right;\">\n",
       "      <th></th>\n",
       "      <th>pct_null</th>\n",
       "      <th>dtype</th>\n",
       "    </tr>\n",
       "  </thead>\n",
       "  <tbody>\n",
       "    <tr>\n",
       "      <th>tx_cnt_1h</th>\n",
       "      <td>0.895580</td>\n",
       "      <td>Int32</td>\n",
       "    </tr>\n",
       "    <tr>\n",
       "      <th>ratio_cnt_1h_24h</th>\n",
       "      <td>0.895580</td>\n",
       "      <td>float32</td>\n",
       "    </tr>\n",
       "    <tr>\n",
       "      <th>ratio_sum_1h_24h</th>\n",
       "      <td>0.895580</td>\n",
       "      <td>float32</td>\n",
       "    </tr>\n",
       "    <tr>\n",
       "      <th>tx_sum_1h</th>\n",
       "      <td>0.895580</td>\n",
       "      <td>float32</td>\n",
       "    </tr>\n",
       "    <tr>\n",
       "      <th>tx_sum_6h</th>\n",
       "      <td>0.868804</td>\n",
       "      <td>float32</td>\n",
       "    </tr>\n",
       "    <tr>\n",
       "      <th>tx_cnt_6h</th>\n",
       "      <td>0.868804</td>\n",
       "      <td>Int32</td>\n",
       "    </tr>\n",
       "    <tr>\n",
       "      <th>ratio_sum_24h_7d</th>\n",
       "      <td>0.804762</td>\n",
       "      <td>float32</td>\n",
       "    </tr>\n",
       "    <tr>\n",
       "      <th>tx_cnt_24h</th>\n",
       "      <td>0.804762</td>\n",
       "      <td>Int32</td>\n",
       "    </tr>\n",
       "    <tr>\n",
       "      <th>tx_sum_24h</th>\n",
       "      <td>0.804762</td>\n",
       "      <td>float32</td>\n",
       "    </tr>\n",
       "    <tr>\n",
       "      <th>ratio_cnt_24h_7d</th>\n",
       "      <td>0.804762</td>\n",
       "      <td>float32</td>\n",
       "    </tr>\n",
       "    <tr>\n",
       "      <th>z_amt_7d</th>\n",
       "      <td>0.771557</td>\n",
       "      <td>float32</td>\n",
       "    </tr>\n",
       "    <tr>\n",
       "      <th>tx_cnt_7d</th>\n",
       "      <td>0.515837</td>\n",
       "      <td>Int32</td>\n",
       "    </tr>\n",
       "  </tbody>\n",
       "</table>\n",
       "</div>"
      ],
      "text/plain": [
       "                  pct_null    dtype\n",
       "tx_cnt_1h         0.895580    Int32\n",
       "ratio_cnt_1h_24h  0.895580  float32\n",
       "ratio_sum_1h_24h  0.895580  float32\n",
       "tx_sum_1h         0.895580  float32\n",
       "tx_sum_6h         0.868804  float32\n",
       "tx_cnt_6h         0.868804    Int32\n",
       "ratio_sum_24h_7d  0.804762  float32\n",
       "tx_cnt_24h        0.804762    Int32\n",
       "tx_sum_24h        0.804762  float32\n",
       "ratio_cnt_24h_7d  0.804762  float32\n",
       "z_amt_7d          0.771557  float32\n",
       "tx_cnt_7d         0.515837    Int32"
      ]
     },
     "metadata": {},
     "output_type": "display_data"
    },
    {
     "data": {
      "text/plain": [
       "tx_sum_1h         tx_sum_6h           0.965192\n",
       "ratio_sum_1h_24h  ratio_cnt_1h_24h    0.982861\n",
       "dtype: float64"
      ]
     },
     "metadata": {},
     "output_type": "display_data"
    }
   ],
   "source": [
    "# C.2 · Resumen rápido de % nulos y correlación alta\n",
    "summary = (\n",
    "    df_feat.isna().mean()\n",
    "      .to_frame(\"pct_null\")\n",
    "      .join(df_feat.dtypes.rename(\"dtype\"))\n",
    "      .sort_values(\"pct_null\", ascending=False)\n",
    ")\n",
    "display(summary.head(12))\n",
    "\n",
    "# Correlaciones >0.95\n",
    "num_cols = df_feat.select_dtypes(include=\"number\").columns\n",
    "corr = df_feat[num_cols].corr().abs()\n",
    "high_corr = (\n",
    "    corr.where(np.triu(np.ones(corr.shape), 1).astype(bool))\n",
    "        .stack()\n",
    "        .loc[lambda s: s > 0.95]\n",
    ")\n",
    "display(high_corr.head())"
   ]
  },
  {
   "cell_type": "code",
   "execution_count": null,
   "id": "5ebb20fc",
   "metadata": {},
   "outputs": [
    {
     "name": "stderr",
     "output_type": "stream",
     "text": [
      "2025-06-29 02:10:23 | INFO | df_features.parquet guardado\n",
      "2025-06-29 02:11:23 | INFO | features_summary.csv guardado\n"
     ]
    }
   ],
   "source": [
    "# C.3 · Persistencia y log final\n",
    "df_feat.to_parquet(CACHE_DIR / \"df_features.parquet\", compression=\"snappy\")\n",
    "log_step(\"df_features.parquet guardado\")\n",
    "\n",
    "# Guardamos CSV de metadatos\n",
    "meta = (\n",
    "    df_feat.describe(include=\"all\")\n",
    "      .T[[\"count\", \"mean\", \"std\", \"min\", \"max\"]]\n",
    "      .join(summary[\"pct_null\"])\n",
    ")\n",
    "meta.to_csv(CACHE_DIR / \"features_summary.csv\")\n",
    "log_step(\"features_summary.csv guardado\")"
   ]
  }
 ],
 "metadata": {
  "kernelspec": {
   "display_name": "base",
   "language": "python",
   "name": "python3"
  },
  "language_info": {
   "codemirror_mode": {
    "name": "ipython",
    "version": 3
   },
   "file_extension": ".py",
   "mimetype": "text/x-python",
   "name": "python",
   "nbconvert_exporter": "python",
   "pygments_lexer": "ipython3",
   "version": "3.12.3"
  }
 },
 "nbformat": 4,
 "nbformat_minor": 5
}
