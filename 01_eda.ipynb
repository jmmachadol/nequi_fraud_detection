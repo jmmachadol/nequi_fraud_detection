{
 "cells": [
  {
   "cell_type": "markdown",
   "id": "ee7d4516",
   "metadata": {},
   "source": [
    "# 01 · Análisis exploratorio (EDA)\n",
    "\n",
    "**Objetivo.**  \n",
    "1. Cargar el dataset `sample_data_0006_part_00.parquet` con uso óptimo de memoria.  \n",
    "2. Verificar integridad de columnas, tipos y valores nulos.  \n",
    "3. Detectar duplicados exactos y semánticos.  \n",
    "4. Normalizar la columna de fecha a hora local (UTC-5, América/Bogotá).  \n",
    "5. Guardar una versión depurada `cache/df_clean.parquet` para los siguientes notebooks.\n",
    "\n",
    "> Nota : se conservan los nombres de columna originales tal como vienen en el Parquet.\n"
   ]
  },
  {
   "cell_type": "code",
   "execution_count": null,
   "id": "938ea6a3",
   "metadata": {},
   "outputs": [],
   "source": [
    "# A.1 · Importaciones, configuraciones y utilidades\n",
    "import time\n",
    "from pathlib import Path\n",
    "import pandas as pd\n",
    "import numpy as np\n",
    "import logging\n",
    "\n",
    "# Configuración global\n",
    "logging.basicConfig(\n",
    "    level=logging.INFO,\n",
    "    format=\"%(asctime)s | %(levelname)s | %(message)s\",\n",
    "    datefmt=\"%Y-%m-%d %H:%M:%S\",\n",
    ")\n",
    "def log_step(msg: str):\n",
    "    logging.info(msg)\n",
    "\n",
    "SEED = 42\n",
    "np.random.seed(SEED)\n",
    "\n",
    "pd.options.display.max_columns = 120\n",
    "pd.options.display.float_format = \"{:,.4f}\".format\n",
    "\n",
    "# Rutas de acceso\n",
    "DATA_DIR  = Path(\".\")\n",
    "CACHE_DIR = Path(\"./cache\")\n",
    "CACHE_DIR.mkdir(exist_ok=True)\n",
    "FILE_PARQUET = DATA_DIR / \"sample_data_0006_part_00.parquet\""
   ]
  },
  {
   "cell_type": "code",
   "execution_count": null,
   "id": "834075f3",
   "metadata": {},
   "outputs": [
    {
     "name": "stderr",
     "output_type": "stream",
     "text": [
      "2025-06-29 00:27:07 | INFO | Leyendo Parquet …\n",
      "2025-06-29 00:27:41 | INFO | Carga completada en 34.22 s  |  filas: 10,758,418\n"
     ]
    }
   ],
   "source": [
    "# A.2 · Carga de datos y tiempo de cómputo\n",
    "log_step(\"Leyendo Parquet …\")\n",
    "t0 = time.time()\n",
    "df = pd.read_parquet(FILE_PARQUET)\n",
    "log_step(f\"Carga completada en {time.time() - t0:.2f} s  |  filas: {len(df):,}\")"
   ]
  },
  {
   "cell_type": "code",
   "execution_count": null,
   "id": "59c93d86",
   "metadata": {},
   "outputs": [
    {
     "name": "stderr",
     "output_type": "stream",
     "text": [
      "2025-06-29 00:28:00 | INFO | Uso total de memoria inicial: 5952.88 MB\n"
     ]
    },
    {
     "data": {
      "text/html": [
       "<div>\n",
       "<style scoped>\n",
       "    .dataframe tbody tr th:only-of-type {\n",
       "        vertical-align: middle;\n",
       "    }\n",
       "\n",
       "    .dataframe tbody tr th {\n",
       "        vertical-align: top;\n",
       "    }\n",
       "\n",
       "    .dataframe thead th {\n",
       "        text-align: right;\n",
       "    }\n",
       "</style>\n",
       "<table border=\"1\" class=\"dataframe\">\n",
       "  <thead>\n",
       "    <tr style=\"text-align: right;\">\n",
       "      <th></th>\n",
       "      <th>index</th>\n",
       "      <th>bytes</th>\n",
       "      <th>MB</th>\n",
       "    </tr>\n",
       "  </thead>\n",
       "  <tbody>\n",
       "    <tr>\n",
       "      <th>7</th>\n",
       "      <td>transaction_amount</td>\n",
       "      <td>1204942816</td>\n",
       "      <td>1,149.1230</td>\n",
       "    </tr>\n",
       "    <tr>\n",
       "      <th>1</th>\n",
       "      <td>merchant_id</td>\n",
       "      <td>871431858</td>\n",
       "      <td>831.0622</td>\n",
       "    </tr>\n",
       "    <tr>\n",
       "      <th>2</th>\n",
       "      <td>_id</td>\n",
       "      <td>871431858</td>\n",
       "      <td>831.0622</td>\n",
       "    </tr>\n",
       "    <tr>\n",
       "      <th>3</th>\n",
       "      <td>subsidiary</td>\n",
       "      <td>871431858</td>\n",
       "      <td>831.0622</td>\n",
       "    </tr>\n",
       "    <tr>\n",
       "      <th>5</th>\n",
       "      <td>account_number</td>\n",
       "      <td>871431858</td>\n",
       "      <td>831.0622</td>\n",
       "    </tr>\n",
       "    <tr>\n",
       "      <th>6</th>\n",
       "      <td>user_id</td>\n",
       "      <td>871431858</td>\n",
       "      <td>831.0622</td>\n",
       "    </tr>\n",
       "    <tr>\n",
       "      <th>8</th>\n",
       "      <td>transaction_type</td>\n",
       "      <td>593880119</td>\n",
       "      <td>566.3682</td>\n",
       "    </tr>\n",
       "    <tr>\n",
       "      <th>4</th>\n",
       "      <td>transaction_date</td>\n",
       "      <td>86067344</td>\n",
       "      <td>82.0802</td>\n",
       "    </tr>\n",
       "    <tr>\n",
       "      <th>0</th>\n",
       "      <td>Index</td>\n",
       "      <td>132</td>\n",
       "      <td>0.0001</td>\n",
       "    </tr>\n",
       "  </tbody>\n",
       "</table>\n",
       "</div>"
      ],
      "text/plain": [
       "                index       bytes         MB\n",
       "7  transaction_amount  1204942816 1,149.1230\n",
       "1         merchant_id   871431858   831.0622\n",
       "2                 _id   871431858   831.0622\n",
       "3          subsidiary   871431858   831.0622\n",
       "5      account_number   871431858   831.0622\n",
       "6             user_id   871431858   831.0622\n",
       "8    transaction_type   593880119   566.3682\n",
       "4    transaction_date    86067344    82.0802\n",
       "0               Index         132     0.0001"
      ]
     },
     "execution_count": 3,
     "metadata": {},
     "output_type": "execute_result"
    }
   ],
   "source": [
    "# A.3 · Memoria\n",
    "info_df = (\n",
    "    df.memory_usage(deep=True)\n",
    "      .reset_index(name=\"bytes\")\n",
    "      .assign(MB=lambda d: d.bytes / 1024**2)\n",
    "      .sort_values(\"MB\", ascending=False)\n",
    ")\n",
    "log_step(f\"Uso total de memoria inicial: {info_df.MB.sum():.2f} MB\")\n",
    "info_df.head(10)"
   ]
  },
  {
   "cell_type": "code",
   "execution_count": null,
   "id": "7771c53a",
   "metadata": {},
   "outputs": [
    {
     "name": "stderr",
     "output_type": "stream",
     "text": [
      "2025-06-29 00:28:00 | INFO | Tipos de datos y porcentaje de nulos\n"
     ]
    },
    {
     "data": {
      "text/html": [
       "<div>\n",
       "<style scoped>\n",
       "    .dataframe tbody tr th:only-of-type {\n",
       "        vertical-align: middle;\n",
       "    }\n",
       "\n",
       "    .dataframe tbody tr th {\n",
       "        vertical-align: top;\n",
       "    }\n",
       "\n",
       "    .dataframe thead th {\n",
       "        text-align: right;\n",
       "    }\n",
       "</style>\n",
       "<table border=\"1\" class=\"dataframe\">\n",
       "  <thead>\n",
       "    <tr style=\"text-align: right;\">\n",
       "      <th></th>\n",
       "      <th>pct_null</th>\n",
       "      <th>dtype</th>\n",
       "    </tr>\n",
       "  </thead>\n",
       "  <tbody>\n",
       "    <tr>\n",
       "      <th>merchant_id</th>\n",
       "      <td>0.0000</td>\n",
       "      <td>object</td>\n",
       "    </tr>\n",
       "    <tr>\n",
       "      <th>_id</th>\n",
       "      <td>0.0000</td>\n",
       "      <td>object</td>\n",
       "    </tr>\n",
       "    <tr>\n",
       "      <th>subsidiary</th>\n",
       "      <td>0.0000</td>\n",
       "      <td>object</td>\n",
       "    </tr>\n",
       "    <tr>\n",
       "      <th>transaction_date</th>\n",
       "      <td>0.0000</td>\n",
       "      <td>datetime64[ns]</td>\n",
       "    </tr>\n",
       "    <tr>\n",
       "      <th>account_number</th>\n",
       "      <td>0.0000</td>\n",
       "      <td>object</td>\n",
       "    </tr>\n",
       "    <tr>\n",
       "      <th>user_id</th>\n",
       "      <td>0.0000</td>\n",
       "      <td>object</td>\n",
       "    </tr>\n",
       "    <tr>\n",
       "      <th>transaction_amount</th>\n",
       "      <td>0.0000</td>\n",
       "      <td>object</td>\n",
       "    </tr>\n",
       "    <tr>\n",
       "      <th>transaction_type</th>\n",
       "      <td>0.0000</td>\n",
       "      <td>object</td>\n",
       "    </tr>\n",
       "  </tbody>\n",
       "</table>\n",
       "</div>"
      ],
      "text/plain": [
       "                    pct_null           dtype\n",
       "merchant_id           0.0000          object\n",
       "_id                   0.0000          object\n",
       "subsidiary            0.0000          object\n",
       "transaction_date      0.0000  datetime64[ns]\n",
       "account_number        0.0000          object\n",
       "user_id               0.0000          object\n",
       "transaction_amount    0.0000          object\n",
       "transaction_type      0.0000          object"
      ]
     },
     "execution_count": 4,
     "metadata": {},
     "output_type": "execute_result"
    }
   ],
   "source": [
    "# A.4 · Tipos de datos y nulos\n",
    "log_step(\"Tipos de datos y porcentaje de nulos\")\n",
    "types_nas = (\n",
    "    df.isna().mean()\n",
    "      .to_frame(\"pct_null\")\n",
    "      .join(df.dtypes.rename(\"dtype\"))\n",
    "      .sort_values(\"pct_null\", ascending=False)\n",
    ")\n",
    "types_nas.head(12)"
   ]
  },
  {
   "cell_type": "code",
   "execution_count": null,
   "id": "a9e8a12b",
   "metadata": {},
   "outputs": [
    {
     "name": "stderr",
     "output_type": "stream",
     "text": [
      "2025-06-29 00:28:07 | INFO | Fechas invalidas (NaT): 0\n"
     ]
    }
   ],
   "source": [
    "# A.5 · Normalización de la columna de fecha\n",
    "DATE_COL = \"transaction_date\"\n",
    "\n",
    "df[DATE_COL] = (\n",
    "    pd.to_datetime(df[DATE_COL], utc=True, errors=\"coerce\")\n",
    "      .dt.tz_convert(\"America/Bogota\")\n",
    "      .dt.tz_localize(None)\n",
    ")\n",
    "\n",
    "log_step(f\"Fechas invalidas (NaT): {(df[DATE_COL].isna()).sum():,}\")"
   ]
  },
  {
   "cell_type": "code",
   "execution_count": null,
   "id": "85afb898",
   "metadata": {},
   "outputs": [
    {
     "name": "stderr",
     "output_type": "stream",
     "text": [
      "2025-06-29 00:28:15 | INFO | Duplicados exactos por _id: 7\n",
      "2025-06-29 00:28:40 | INFO | Duplicados semánticos (conjunto clave): 13\n"
     ]
    }
   ],
   "source": [
    "# A.6 · Duplicados exactos y semánticos\n",
    "PRIMARY_KEY = \"_id\"  \n",
    "\n",
    "dup_exact = df.duplicated(subset=[PRIMARY_KEY]).sum()\n",
    "log_step(f\"Duplicados exactos por {PRIMARY_KEY}: {dup_exact:,}\")\n",
    "\n",
    "dup_semantic_cols = [\"user_id\", \"transaction_date\", \"transaction_amount\", \"transaction_type\"]\n",
    "dup_semantic = df.duplicated(subset=dup_semantic_cols).sum()\n",
    "log_step(f\"Duplicados semánticos (conjunto clave): {dup_semantic:,}\")"
   ]
  },
  {
   "cell_type": "code",
   "execution_count": null,
   "id": "dc9d0e3c",
   "metadata": {},
   "outputs": [
    {
     "name": "stderr",
     "output_type": "stream",
     "text": [
      "2025-06-29 00:28:51 | INFO | merchant_id: object → category (card=3)\n",
      "2025-06-29 00:29:01 | INFO | _id: se mantiene en object (card=10758411)\n",
      "2025-06-29 00:29:05 | INFO | subsidiary: object → category (card=16052)\n",
      "2025-06-29 00:29:18 | INFO | account_number: object → category (card=1954040)\n",
      "2025-06-29 00:29:29 | INFO | user_id: object → category (card=1948844)\n",
      "2025-06-29 00:29:54 | INFO | transaction_amount: object → category (card=18554)\n",
      "2025-06-29 00:29:57 | INFO | transaction_type: object → category (card=2)\n",
      "2025-06-29 00:29:57 | INFO | Casting numérico completado\n",
      "2025-06-29 00:30:01 | INFO | Memoria tras optimización v2: 1491.50 MB\n"
     ]
    }
   ],
   "source": [
    "# A.7 · Cast optimizado y robusto\n",
    "\n",
    "# 1) INT64  → INT32 (cuando rango lo permite)                        \n",
    "for col in df.select_dtypes(include=\"int64\").columns:\n",
    "    cmin, cmax = df[col].min(), df[col].max()\n",
    "    if (cmin >= np.iinfo(\"int32\").min) and (cmax <= np.iinfo(\"int32\").max):\n",
    "        df[col] = df[col].astype(\"int32\")\n",
    "        log_step(f\"{col}: int64 → int32\")\n",
    "\n",
    "# 2) OBJECT  → INT32 (si son dígitos)  o  → CATEGORY                 \n",
    "obj_cols = df.select_dtypes(include=\"object\").columns\n",
    "\n",
    "for col in obj_cols:\n",
    "    ser = df[col].dropna()\n",
    "\n",
    "    # Convertimos solo el subconjunto no-nulo a str para la prueba\n",
    "    if not ser.empty and ser.astype(str).str.isdigit().all():\n",
    "        tmp = pd.to_numeric(df[col], errors=\"coerce\", downcast=\"integer\")\n",
    "        if tmp.max() <= np.iinfo(\"int32\").max:\n",
    "            df[col] = tmp.astype(\"int32\")\n",
    "            log_step(f\"{col}: object (dígitos) → int32\")\n",
    "        else:\n",
    "            df[col] = tmp.astype(\"int64\")\n",
    "            log_step(f\"{col}: object (dígitos) → int64\")\n",
    "    else:\n",
    "        # Heurística: si <50 % de valores son únicos, conviene category\n",
    "        uniq = ser.nunique(dropna=True)\n",
    "        if uniq / len(ser) <= 0.50:\n",
    "            df[col] = df[col].astype(\"category\")\n",
    "            log_step(f\"{col}: object → category (card={uniq})\")\n",
    "        else:\n",
    "            log_step(f\"{col}: se mantiene en object (card={uniq})\")\n",
    "\n",
    "# 3) FLOAT64 → FLOAT32                                               \n",
    "float64_cols = df.select_dtypes(include=\"float64\").columns\n",
    "df[float64_cols] = df[float64_cols].astype(\"float32\")\n",
    "log_step(\"Casting numérico completado\")\n",
    "\n",
    "# 4) Informe de memoria                                              \n",
    "mem_mb = df.memory_usage(deep=True).sum() / 1024**2\n",
    "log_step(f\"Memoria tras optimización v2: {mem_mb:.2f} MB\")"
   ]
  },
  {
   "cell_type": "code",
   "execution_count": null,
   "id": "cb4b7bd5",
   "metadata": {},
   "outputs": [
    {
     "name": "stderr",
     "output_type": "stream",
     "text": [
      "2025-06-29 00:30:17 | INFO | transaction_amount convertido a float32\n",
      "2025-06-29 00:30:32 | INFO | Filas eliminadas por deduplicación: 16\n",
      "2025-06-29 00:30:35 | INFO | Memoria tras fix: 1591.61 MB\n"
     ]
    }
   ],
   "source": [
    "# A.8 · Conversión numérica + deduplicación\n",
    "\n",
    "# 1) transaction_amount --> float32\n",
    "df[\"transaction_amount\"] = (\n",
    "    pd.to_numeric(df[\"transaction_amount\"], errors=\"coerce\")\n",
    "      .astype(\"float32\")\n",
    ")\n",
    "log_step(\"transaction_amount convertido a float32\")\n",
    "\n",
    "# 2) Eliminar duplicados exactos por _id \n",
    "before = len(df)\n",
    "df = df.drop_duplicates(subset=[\"_id\"], keep=\"first\")\n",
    "\n",
    "# 3) Eliminar duplicados semánticos\n",
    "dup_sem_cols = [\"user_id\", \"transaction_date\", \"transaction_amount\", \"transaction_type\"]\n",
    "df = df.drop_duplicates(subset=dup_sem_cols, keep=\"first\")\n",
    "\n",
    "after = len(df)\n",
    "log_step(f\"Filas eliminadas por deduplicación: {before - after:,}\")\n",
    "\n",
    "# 4) Reporte de memoria tras convertir transaction_amount\n",
    "mem_mb = df.memory_usage(deep=True).sum() / 1024**2\n",
    "log_step(f\"Memoria tras fix: {mem_mb:.2f} MB\")"
   ]
  },
  {
   "cell_type": "code",
   "execution_count": null,
   "id": "2d7336a1",
   "metadata": {},
   "outputs": [
    {
     "name": "stderr",
     "output_type": "stream",
     "text": [
      "2025-06-29 00:30:43 | INFO | Duplicados exactos restantes: 0\n",
      "2025-06-29 00:30:43 | INFO | Duplicados semánticos restantes: 0\n"
     ]
    }
   ],
   "source": [
    "# A.9 · Verificación final de duplicados\n",
    "dup_exact_final = df.duplicated(subset=[\"_id\"]).sum()\n",
    "dup_sem_final   = df.duplicated(\n",
    "    subset=[\"user_id\", \"transaction_date\", \"transaction_amount\", \"transaction_type\"]\n",
    ").sum()\n",
    "\n",
    "log_step(f\"Duplicados exactos restantes: {dup_exact_final}\")\n",
    "log_step(f\"Duplicados semánticos restantes: {dup_sem_final}\")\n"
   ]
  },
  {
   "cell_type": "code",
   "execution_count": null,
   "id": "327f6a34",
   "metadata": {},
   "outputs": [
    {
     "name": "stderr",
     "output_type": "stream",
     "text": [
      "2025-06-29 00:30:43 | INFO | Casting completado\n",
      "2025-06-29 00:30:46 | INFO | Uso total de memoria tras optimización: 1591.61 MB\n"
     ]
    }
   ],
   "source": [
    "# A.10 · Down-cast numéricos para optimizar memoria\n",
    "num_cols_float = df.select_dtypes(include=\"float64\").columns\n",
    "num_cols_int   = df.select_dtypes(include=\"int64\").columns\n",
    "\n",
    "df[num_cols_float] = df[num_cols_float].astype(\"float32\")\n",
    "df[num_cols_int]   = df[num_cols_int].astype(\"int32\")\n",
    "\n",
    "log_step(\"Casting completado\")\n",
    "info_after = df.memory_usage(deep=True).sum() / 1024**2\n",
    "log_step(f\"Uso total de memoria tras optimización: {info_after:.2f} MB\")"
   ]
  },
  {
   "cell_type": "code",
   "execution_count": null,
   "id": "f3322dce",
   "metadata": {},
   "outputs": [
    {
     "name": "stderr",
     "output_type": "stream",
     "text": [
      "2025-06-29 00:31:18 | INFO | Dataset limpio cacheado en cache\\df_clean.parquet\n"
     ]
    }
   ],
   "source": [
    "# A.11 · Persistencia del DataFrame limpio\n",
    "CACHE_FILE = CACHE_DIR / \"df_clean.parquet\"\n",
    "df.to_parquet(CACHE_FILE, compression=\"snappy\")\n",
    "log_step(f\"Dataset limpio cacheado en {CACHE_FILE}\")"
   ]
  },
  {
   "cell_type": "markdown",
   "id": "d42d65a8",
   "metadata": {},
   "source": [
    "## B · Exploración descriptiva\n",
    "\n",
    "En esta sección:\n",
    "\n",
    "1. **B.1** Distribución log₁₀ de `transaction_amount`.  \n",
    "2. **B.2** Volumen horario promedio con banda intercuartílica (p25-p75).  \n",
    "3. **B.3** Estadísticos p50, p95, p99 por `transaction_type`.\n",
    "\n",
    "Todas las figuras usan la muestra completa (≈ 10.75 M filas) con escalas y etiquetas legibles.\n"
   ]
  },
  {
   "cell_type": "code",
   "execution_count": null,
   "id": "54d55235",
   "metadata": {},
   "outputs": [
    {
     "name": "stderr",
     "output_type": "stream",
     "text": [
      "2025-06-29 01:02:14 | INFO | Figura B.1 generada\n",
      "c:\\ProgramData\\anaconda3\\Lib\\site-packages\\IPython\\core\\events.py:82: UserWarning: Glyph 8321 (\\N{SUBSCRIPT ONE}) missing from font(s) Arial.\n",
      "  func(*args, **kwargs)\n",
      "c:\\ProgramData\\anaconda3\\Lib\\site-packages\\IPython\\core\\events.py:82: UserWarning: Glyph 8320 (\\N{SUBSCRIPT ZERO}) missing from font(s) Arial.\n",
      "  func(*args, **kwargs)\n",
      "c:\\ProgramData\\anaconda3\\Lib\\site-packages\\IPython\\core\\pylabtools.py:170: UserWarning: Glyph 8321 (\\N{SUBSCRIPT ONE}) missing from font(s) Arial.\n",
      "  fig.canvas.print_figure(bytes_io, **kw)\n",
      "c:\\ProgramData\\anaconda3\\Lib\\site-packages\\IPython\\core\\pylabtools.py:170: UserWarning: Glyph 8320 (\\N{SUBSCRIPT ZERO}) missing from font(s) Arial.\n",
      "  fig.canvas.print_figure(bytes_io, **kw)\n"
     ]
    },
    {
     "data": {
      "image/png": "[encoded data removed]",
      "text/plain": [
       "<Figure size 600x400 with 1 Axes>"
      ]
     },
     "metadata": {},
     "output_type": "display_data"
    }
   ],
   "source": [
    "# B.1 · Histograma log10 del monto\n",
    "import matplotlib.pyplot as plt\n",
    "import seaborn as sns\n",
    "sns.set_style(\"whitegrid\")\n",
    "\n",
    "fig, ax = plt.subplots(figsize=(6,4))\n",
    "sns.histplot(\n",
    "    np.log10(df[\"transaction_amount\"].clip(lower=0.01)),\n",
    "    bins=60,\n",
    "    color=\"#3182bd\",\n",
    "    ax=ax,\n",
    ")\n",
    "ax.set_xlabel(\"log10(Monto)\")\n",
    "ax.set_ylabel(\"Frecuencia\")\n",
    "ax.set_title(\"Distribución log₁₀ del monto (p0.01–p100)\")\n",
    "sns.despine(ax=ax)\n",
    "\n",
    "log_step(\"Figura B.1 generada\")"
   ]
  },
  {
   "cell_type": "code",
   "execution_count": null,
   "id": "74802985",
   "metadata": {},
   "outputs": [
    {
     "name": "stderr",
     "output_type": "stream",
     "text": [
      "2025-06-29 01:02:20 | INFO | Figura B.2 generada\n"
     ]
    },
    {
     "data": {
      "image/png": "[encoded data removed]",
      "text/plain": [
       "<Figure size 700x300 with 1 Axes>"
      ]
     },
     "metadata": {},
     "output_type": "display_data"
    }
   ],
   "source": [
    "# B.2 · Volumen horario promedio y dispersión\n",
    "tmp = (\n",
    "    df.groupby([df[\"transaction_date\"].dt.date,\n",
    "                df[\"transaction_date\"].dt.hour])\n",
    "      .size()\n",
    "      .unstack(fill_value=0)\n",
    ")\n",
    "q25, q75 = np.percentile(tmp, [25, 75], axis=0)\n",
    "avg      = tmp.mean(axis=0)\n",
    "\n",
    "fig, ax = plt.subplots(figsize=(7,3))\n",
    "hours = range(24)\n",
    "ax.plot(hours, avg, marker=\"o\")\n",
    "ax.fill_between(hours, q25, q75, alpha=.2)\n",
    "ax.set_xticks(hours)\n",
    "ax.set_xlabel(\"Hora local (UTC-5)\")\n",
    "ax.set_ylabel(\"Tx promedio\")\n",
    "ax.set_title(\"Volumen horario con banda p25-p75\")\n",
    "sns.despine(ax=ax)\n",
    "\n",
    "log_step(\"Figura B.2 generada\")"
   ]
  },
  {
   "cell_type": "code",
   "execution_count": null,
   "id": "fa08fd77",
   "metadata": {},
   "outputs": [
    {
     "name": "stderr",
     "output_type": "stream",
     "text": [
      "C:\\Users\\Jose Manuel\\AppData\\Local\\Temp\\ipykernel_19088\\376560786.py:3: FutureWarning: The default of observed=False is deprecated and will be changed to True in a future version of pandas. Pass observed=False to retain current behavior or observed=True to adopt the future default and silence this warning.\n",
      "  df.groupby(\"transaction_type\")[\"transaction_amount\"]\n"
     ]
    },
    {
     "data": {
      "text/html": [
       "<div>\n",
       "<style scoped>\n",
       "    .dataframe tbody tr th:only-of-type {\n",
       "        vertical-align: middle;\n",
       "    }\n",
       "\n",
       "    .dataframe tbody tr th {\n",
       "        vertical-align: top;\n",
       "    }\n",
       "\n",
       "    .dataframe thead th {\n",
       "        text-align: right;\n",
       "    }\n",
       "</style>\n",
       "<table border=\"1\" class=\"dataframe\">\n",
       "  <thead>\n",
       "    <tr style=\"text-align: right;\">\n",
       "      <th></th>\n",
       "      <th>p50</th>\n",
       "      <th>p95</th>\n",
       "      <th>p99</th>\n",
       "      <th>count</th>\n",
       "    </tr>\n",
       "    <tr>\n",
       "      <th>transaction_type</th>\n",
       "      <th></th>\n",
       "      <th></th>\n",
       "      <th></th>\n",
       "      <th></th>\n",
       "    </tr>\n",
       "  </thead>\n",
       "  <tbody>\n",
       "    <tr>\n",
       "      <th>DEBITO</th>\n",
       "      <td>118.8891</td>\n",
       "      <td>713.3300</td>\n",
       "      <td>1,188.8900</td>\n",
       "      <td>8591289</td>\n",
       "    </tr>\n",
       "    <tr>\n",
       "      <th>CREDITO</th>\n",
       "      <td>59.4445</td>\n",
       "      <td>594.4500</td>\n",
       "      <td>594.4500</td>\n",
       "      <td>2167113</td>\n",
       "    </tr>\n",
       "  </tbody>\n",
       "</table>\n",
       "</div>"
      ],
      "text/plain": [
       "                      p50      p95        p99    count\n",
       "transaction_type                                      \n",
       "DEBITO           118.8891 713.3300 1,188.8900  8591289\n",
       "CREDITO           59.4445 594.4500   594.4500  2167113"
      ]
     },
     "metadata": {},
     "output_type": "display_data"
    },
    {
     "name": "stderr",
     "output_type": "stream",
     "text": [
      "2025-06-29 01:02:21 | INFO | Tabla B.3 generada\n"
     ]
    }
   ],
   "source": [
    "# B.3 · Tabla estadística p50 / p95 / p99\n",
    "stats = (\n",
    "    df.groupby(\"transaction_type\")[\"transaction_amount\"]\n",
    "      .agg(p50=\"median\", p95=lambda s: s.quantile(0.95),\n",
    "           p99=lambda s: s.quantile(0.99), count=\"size\")\n",
    "      .assign(p95=lambda d: d.p95.round(2),\n",
    "              p99=lambda d: d.p99.round(2))\n",
    "      .sort_values(\"p99\", ascending=False)\n",
    ")\n",
    "\n",
    "display(stats)\n",
    "\n",
    "log_step(\"Tabla B.3 generada\")"
   ]
  }
 ],
 "metadata": {
  "kernelspec": {
   "display_name": "base",
   "language": "python",
   "name": "python3"
  },
  "language_info": {
   "codemirror_mode": {
    "name": "ipython",
    "version": 3
   },
   "file_extension": ".py",
   "mimetype": "text/x-python",
   "name": "python",
   "nbconvert_exporter": "python",
   "pygments_lexer": "ipython3",
   "version": "3.12.3"
  }
 },
 "nbformat": 4,
 "nbformat_minor": 5
}
